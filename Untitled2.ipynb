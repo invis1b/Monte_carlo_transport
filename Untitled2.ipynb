{
 "cells": [
  {
   "cell_type": "code",
   "execution_count": 1,
   "metadata": {},
   "outputs": [],
   "source": [
    "import numpy as np"
   ]
  },
  {
   "cell_type": "code",
   "execution_count": 3,
   "metadata": {},
   "outputs": [],
   "source": [
    "Y=np.zeros((100,100))"
   ]
  },
  {
   "cell_type": "code",
   "execution_count": 4,
   "metadata": {},
   "outputs": [
    {
     "data": {
      "text/plain": [
       "array([[0., 0., 0., ..., 0., 0., 0.],\n",
       "       [0., 0., 0., ..., 0., 0., 0.],\n",
       "       [0., 0., 0., ..., 0., 0., 0.],\n",
       "       ...,\n",
       "       [0., 0., 0., ..., 0., 0., 0.],\n",
       "       [0., 0., 0., ..., 0., 0., 0.],\n",
       "       [0., 0., 0., ..., 0., 0., 0.]])"
      ]
     },
     "execution_count": 4,
     "metadata": {},
     "output_type": "execute_result"
    }
   ],
   "source": [
    "Y"
   ]
  },
  {
   "cell_type": "code",
   "execution_count": 13,
   "metadata": {},
   "outputs": [],
   "source": [
    "N_plus=np.full((100,100,2),6)"
   ]
  },
  {
   "cell_type": "code",
   "execution_count": 14,
   "metadata": {},
   "outputs": [],
   "source": [
    "N_minus=np.full((100,100,2),6)"
   ]
  },
  {
   "cell_type": "code",
   "execution_count": 18,
   "metadata": {},
   "outputs": [],
   "source": [
    "N_plus[:,:,1]=0"
   ]
  },
  {
   "cell_type": "code",
   "execution_count": 19,
   "metadata": {},
   "outputs": [],
   "source": [
    "N_minus[:,:,1]=0"
   ]
  },
  {
   "cell_type": "code",
   "execution_count": null,
   "metadata": {},
   "outputs": [],
   "source": [
    "lattice_constant=A"
   ]
  },
  {
   "cell_type": "code",
   "execution_count": null,
   "metadata": {},
   "outputs": [],
   "source": [
    "dT_plus[i][j]=a*(1+bY[i][j])\n",
    "dT_minus[i][j]=a*(1-bY[i][j])\n",
    "dY[i][j]=a(N_minus[i][j]-N_plus[i][j])-(3/4)*k(Y[i][j-1]+Y[i][j+1]+Y[i-1][j-1]+Y[i+1][j+1]-6*Y[i][j])\n",
    "\n"
   ]
  },
  {
   "cell_type": "code",
   "execution_count": 7,
   "metadata": {},
   "outputs": [],
   "source": [
    "class trajectory:\n",
    "    def __init__(self, time, Y,N_plus,N_minus):\n",
    "        self.time=time\n",
    "        self.Y=Y\n",
    "        self.N_plus=N_plus\n",
    "        self.N_minus=N_minus\n"
   ]
  },
  {
   "cell_type": "code",
   "execution_count": 9,
   "metadata": {},
   "outputs": [],
   "source": [
    "def update(trajectory,temperature,gamma):\n",
    "    Y=trajectory.Y\n",
    "    N_plus=trajectory.N_plus\n",
    "    N_minus=trajectory.N_minus\n",
    "    dY[i][j]=np.zeros((100,100))\n",
    "    dN_plus[i][j]=np.zeros((100,100))\n",
    "    dN_minus[i][j]=np.zeros((100,100))\n",
    "\n",
    "    std=np.sqrt(2*temperature/gamma)\n",
    "    random_force= numpy.random.normal(0,std,size=(100,100))\n",
    "    for i in range(0,100):\n",
    "        for j in range(0,100):\n",
    "            dY[i][j]=a(N_minus[i][j]-N_plus[i][j])-(3/4)*k(Y[i][j-1]+Y[i][j+1]+Y[i-1][j-1]+Y[i+1][j+1]-6*Y[i][j])+random_force[i][j]\n",
    "    for i in range(0,100):\n",
    "        for j in range(0,100):\n",
    "            Y[i][j]=Y[i][j]+dY[i][j]\n",
    "    for i in range(0,100):\n",
    "        for j in range(0,100):\n",
    "            if N_plus[i,j,1]==0:\n",
    "                dN_plus[i,j]-=N_plus[i][j]\n",
    "                dN_minus[i-1,j]+=N_plus[i][j]\n",
    "                \n",
    " "
   ]
  },
  {
   "cell_type": "code",
   "execution_count": 12,
   "metadata": {},
   "outputs": [
    {
     "data": {
      "text/plain": [
       "array([[ 0.96220194,  1.91590787,  0.0659804 , ...,  0.27503534,\n",
       "         1.241349  ,  0.70176021],\n",
       "       [-1.30522073, -0.38587403,  0.26943119, ...,  0.17708334,\n",
       "         0.72190641,  1.91027371],\n",
       "       [ 0.0928211 ,  0.65200933,  1.52388706, ..., -0.83648354,\n",
       "         0.42589019, -1.00622802],\n",
       "       ...,\n",
       "       [-0.29749116,  0.27220602, -0.49062489, ...,  0.16366371,\n",
       "         1.23044293,  0.6862639 ],\n",
       "       [-0.54738517, -1.48582135, -0.62987164, ...,  0.18946558,\n",
       "        -0.47789033,  0.4913858 ],\n",
       "       [-0.97691052,  0.8677056 , -0.12859586, ...,  1.69623249,\n",
       "        -0.11022137, -0.57687279]])"
      ]
     },
     "execution_count": 12,
     "metadata": {},
     "output_type": "execute_result"
    }
   ],
   "source": [
    "np.random.normal(0,1,size=(100,100))"
   ]
  },
  {
   "cell_type": "code",
   "execution_count": null,
   "metadata": {},
   "outputs": [],
   "source": []
  }
 ],
 "metadata": {
  "kernelspec": {
   "display_name": "Python 3",
   "language": "python",
   "name": "python3"
  },
  "language_info": {
   "codemirror_mode": {
    "name": "ipython",
    "version": 3
   },
   "file_extension": ".py",
   "mimetype": "text/x-python",
   "name": "python",
   "nbconvert_exporter": "python",
   "pygments_lexer": "ipython3",
   "version": "3.7.3"
  }
 },
 "nbformat": 4,
 "nbformat_minor": 2
}
